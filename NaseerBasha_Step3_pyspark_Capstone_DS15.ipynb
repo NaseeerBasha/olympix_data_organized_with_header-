{
  "nbformat": 4,
  "nbformat_minor": 0,
  "metadata": {
    "colab": {
      "name": "NaseerBasha_Step3_pyspark_Capstone_DS15.ipynb",
      "provenance": [],
      "collapsed_sections": []
    },
    "kernelspec": {
      "name": "python3",
      "display_name": "Python 3"
    },
    "language_info": {
      "name": "python"
    }
  },
  "cells": [
    {
      "cell_type": "markdown",
      "source": [
        "#**Introduction**"
      ],
      "metadata": {
        "id": "4C7TYjV4GNTo"
      }
    },
    {
      "cell_type": "markdown",
      "source": [
        "Olympic Games, athletic festival that originated in ancient Greece and was revived in the late 19th century.  The Olympic Games have come to be regarded as the world’s foremost sports competition.The International Olympic Committee (IOC) organises the Games and oversees the host city's preparations. In each Olympic event, gold medals are awarded for first place, silver medals are awarded for second place, and bronze medals are awarded for third place; this tradition began in 1904. The Winter Olympic Games were created out of the success of the Summer Olympics. It is regarded as the largest and most prestigious multi-sport international event in the world. "
      ],
      "metadata": {
        "id": "2gpwBoN9GKU4"
      }
    },
    {
      "cell_type": "markdown",
      "source": [
        "##**About the Dataset**"
      ],
      "metadata": {
        "id": "PvJfFbl0nXrO"
      }
    },
    {
      "cell_type": "markdown",
      "source": [
        "There are 110 countries were added in 49 sports from year 2000 to 2012 in olympic games. Also contains player names with their age and number of gold , silver and brone medals , they won . With total medals they won.country of competitors, and year for every Olympic event ."
      ],
      "metadata": {
        "id": "1RmgGZ82nbHe"
      }
    },
    {
      "cell_type": "markdown",
      "source": [
        "##**Attribute Information**"
      ],
      "metadata": {
        "id": "x8zAH0yxlBsm"
      }
    },
    {
      "cell_type": "markdown",
      "source": [
        "* Name --- Nmae of the athletes\n",
        "* Age --- Age of the atheletes\n",
        "* Country --- Name of the country\n",
        "* Year --- year of the event\n",
        "* Date_Given --- Date which athelet participated\n",
        "* Sprots --- Which Sport athelet partcicpating\n",
        "* Gold_medals --- Number of gold medals win by the individual athelet\n",
        "* Silver_medal ---Number of silver medals win by the individual athelet\n",
        "* Bronze_mdeal --- Number of Bronze medals win by the individual athelet\n",
        "* Toatal_medals --- Number of total medals win by the individual athelet"
      ],
      "metadata": {
        "id": "3EMMQlTCkxwg"
      }
    },
    {
      "cell_type": "markdown",
      "source": [
        "##Installing PySpark"
      ],
      "metadata": {
        "id": "6F3M2m4rCn5a"
      }
    },
    {
      "cell_type": "code",
      "execution_count": null,
      "metadata": {
        "colab": {
          "base_uri": "https://localhost:8080/"
        },
        "id": "OYypM8rQ8SiY",
        "outputId": "ef8b9fd7-6bb4-4e5f-f8cc-f56f3461618a"
      },
      "outputs": [
        {
          "output_type": "stream",
          "name": "stdout",
          "text": [
            "Looking in indexes: https://pypi.org/simple, https://us-python.pkg.dev/colab-wheels/public/simple/\n",
            "Collecting pyspark\n",
            "  Downloading pyspark-3.3.0.tar.gz (281.3 MB)\n",
            "\u001b[K     |████████████████████████████████| 281.3 MB 45 kB/s \n",
            "\u001b[?25hCollecting py4j==0.10.9.5\n",
            "  Downloading py4j-0.10.9.5-py2.py3-none-any.whl (199 kB)\n",
            "\u001b[K     |████████████████████████████████| 199 kB 64.7 MB/s \n",
            "\u001b[?25hBuilding wheels for collected packages: pyspark\n",
            "  Building wheel for pyspark (setup.py) ... \u001b[?25l\u001b[?25hdone\n",
            "  Created wheel for pyspark: filename=pyspark-3.3.0-py2.py3-none-any.whl size=281764026 sha256=bb222b87014f6226bd6f7e7335baae283fdd5f7bfccde134b4c7837e9a158774\n",
            "  Stored in directory: /root/.cache/pip/wheels/7a/8e/1b/f73a52650d2e5f337708d9f6a1750d451a7349a867f928b885\n",
            "Successfully built pyspark\n",
            "Installing collected packages: py4j, pyspark\n",
            "Successfully installed py4j-0.10.9.5 pyspark-3.3.0\n"
          ]
        }
      ],
      "source": [
        "pip install pyspark # Installation"
      ]
    },
    {
      "cell_type": "markdown",
      "source": [
        "##Importing Necessary Libraries"
      ],
      "metadata": {
        "id": "XL-DZMUyCvnJ"
      }
    },
    {
      "cell_type": "code",
      "source": [
        "from pyspark import SparkConf\n",
        "from pyspark.sql import SparkSession\n",
        "from pyspark.sql.functions import sum, col, desc, asc, count\n",
        "from pyspark.sql import functions as F\n"
      ],
      "metadata": {
        "id": "tha3sb9YCsDP"
      },
      "execution_count": null,
      "outputs": []
    },
    {
      "cell_type": "code",
      "source": [
        "spark = SparkSession.builder.appName(\"practice\").getOrCreate()\n",
        "spark.sparkContext.getConf().getAll();"
      ],
      "metadata": {
        "id": "THpLE2pdC1wX"
      },
      "execution_count": null,
      "outputs": []
    },
    {
      "cell_type": "markdown",
      "source": [
        "##Write PySpark code to read the olympix_data.csv file"
      ],
      "metadata": {
        "id": "MmDSOqTqC_d9"
      }
    },
    {
      "cell_type": "code",
      "source": [
        "df1 = spark.read.format(\"csv\").option(\"header\",\"true\").option(\"inferSchema\",\"true\").load(\"/content/olympix_data_organized_with_header (1) (1).csv\")# reading the file\n",
        "df1.show()#its shows the 20 records\n"
      ],
      "metadata": {
        "colab": {
          "base_uri": "https://localhost:8080/"
        },
        "id": "2tV7BnVcC2o-",
        "outputId": "a4eb036c-9634-4960-89c9-d0e44e9f1bb4"
      },
      "execution_count": null,
      "outputs": [
        {
          "output_type": "stream",
          "name": "stdout",
          "text": [
            "+--------------------+---+-------------+----+----------+--------------------+----------+------------+-----------+-----------+\n",
            "|                name|age|      country|year|Date_Given|              sports|gold_medal|silver_medal|brone_medal|total_medal|\n",
            "+--------------------+---+-------------+----+----------+--------------------+----------+------------+-----------+-----------+\n",
            "|      Michael Phelps| 23|United States|2008| 8/24/2008|            Swimming|         8|           0|          0|          8|\n",
            "|      Michael Phelps| 19|United States|2004| 8/29/2004|            Swimming|         6|           0|          2|          8|\n",
            "|      Michael Phelps| 27|United States|2012|08-12-2012|            Swimming|         4|           2|          0|          6|\n",
            "|    Natalie Coughlin| 25|United States|2008| 8/24/2008|            Swimming|         1|           2|          3|          6|\n",
            "|       Aleksey Nemov| 24|       Russia|2000|10-01-2000|          Gymnastics|         2|           1|          3|          6|\n",
            "|       Alicia Coutts| 24|    Australia|2012|08-12-2012|            Swimming|         1|           3|          1|          5|\n",
            "|      Missy Franklin| 17|United States|2012|08-12-2012|            Swimming|         4|           0|          1|          5|\n",
            "|         Ryan Lochte| 27|United States|2012|08-12-2012|            Swimming|         2|           2|          1|          5|\n",
            "|     Allison Schmitt| 22|United States|2012|08-12-2012|            Swimming|         3|           1|          1|          5|\n",
            "|    Natalie Coughlin| 21|United States|2004| 8/29/2004|            Swimming|         2|           2|          1|          5|\n",
            "|          Ian Thorpe| 17|    Australia|2000|10-01-2000|            Swimming|         3|           2|          0|          5|\n",
            "|         Dara Torres| 33|United States|2000|10-01-2000|            Swimming|         2|           0|          3|          5|\n",
            "|       Cindy Klassen| 26|       Canada|2006| 2/26/2006|       Speed Skating|         1|           2|          2|          5|\n",
            "|       Nastia Liukin| 18|United States|2008| 8/24/2008|          Gymnastics|         1|           3|          1|          5|\n",
            "|       Marit Bjørgen| 29|       Norway|2010| 2/28/2010|Cross Country Skiing|         3|           1|          1|          5|\n",
            "|            Sun Yang| 20|        China|2012|08-12-2012|            Swimming|         2|           1|          1|          4|\n",
            "|     Kirsty Coventry| 24|     Zimbabwe|2008| 8/24/2008|            Swimming|         1|           3|          0|          4|\n",
            "|Libby Lenton-Tric...| 23|    Australia|2008| 8/24/2008|            Swimming|         2|           1|          1|          4|\n",
            "|         Ryan Lochte| 24|United States|2008| 8/24/2008|            Swimming|         2|           0|          2|          4|\n",
            "|      Inge de Bruijn| 30|  Netherlands|2004| 8/29/2004|            Swimming|         1|           1|          2|          4|\n",
            "+--------------------+---+-------------+----+----------+--------------------+----------+------------+-----------+-----------+\n",
            "only showing top 20 rows\n",
            "\n"
          ]
        }
      ]
    },
    {
      "cell_type": "code",
      "source": [
        "  row = df1.count() # total number of rows in dataframe\n",
        "  # extracting number of columns from the Dataframe\n",
        "  column = len(df1.columns) # total number of columns in dataframe\n",
        " "
      ],
      "metadata": {
        "id": "RQbAYuYlDUWs"
      },
      "execution_count": null,
      "outputs": []
    },
    {
      "cell_type": "code",
      "source": [
        " print(f'Number of Rows are: {row}')# printing the total rows\n",
        " print(f'Number of Columns are: {column}')#printing the total column"
      ],
      "metadata": {
        "colab": {
          "base_uri": "https://localhost:8080/"
        },
        "id": "X-MLQverD26B",
        "outputId": "ae8cafb3-2241-4547-bb0b-db1a60505f3f"
      },
      "execution_count": null,
      "outputs": [
        {
          "output_type": "stream",
          "name": "stdout",
          "text": [
            "Number of Rows are: 8618\n",
            "Number of Columns are: 10\n"
          ]
        }
      ]
    },
    {
      "cell_type": "markdown",
      "source": [
        "Observation:\n",
        "* There are total 8618 rows and 10 columns are there in dataset."
      ],
      "metadata": {
        "id": "YbFthLCyEa2o"
      }
    },
    {
      "cell_type": "code",
      "source": [
        "df1.columns # its shows the columns"
      ],
      "metadata": {
        "colab": {
          "base_uri": "https://localhost:8080/"
        },
        "id": "mzoCeiHyGkgf",
        "outputId": "35fcbb52-b13d-4e96-f55f-6185092fc358"
      },
      "execution_count": null,
      "outputs": [
        {
          "output_type": "execute_result",
          "data": {
            "text/plain": [
              "['name',\n",
              " 'age',\n",
              " 'country',\n",
              " 'year',\n",
              " 'Date_Given',\n",
              " 'sports',\n",
              " 'gold_medal',\n",
              " 'silver_medal',\n",
              " 'brone_medal',\n",
              " 'total_medal']"
            ]
          },
          "metadata": {},
          "execution_count": 10
        }
      ]
    },
    {
      "cell_type": "markdown",
      "source": [
        "observation-\n",
        "* Reading the columns from the dataset"
      ],
      "metadata": {
        "id": "aXkkIXB-Gjjd"
      }
    },
    {
      "cell_type": "markdown",
      "source": [
        "##Read the data with data types."
      ],
      "metadata": {
        "id": "ADNbn3DaELdp"
      }
    },
    {
      "cell_type": "code",
      "source": [
        "df1.printSchema() # its shows the datatypes"
      ],
      "metadata": {
        "colab": {
          "base_uri": "https://localhost:8080/"
        },
        "id": "5TJT0lvoD6S3",
        "outputId": "bf035ead-7409-4090-b05c-433d2c71511f"
      },
      "execution_count": null,
      "outputs": [
        {
          "output_type": "stream",
          "name": "stdout",
          "text": [
            "root\n",
            " |-- name: string (nullable = true)\n",
            " |-- age: integer (nullable = true)\n",
            " |-- country: string (nullable = true)\n",
            " |-- year: integer (nullable = true)\n",
            " |-- Date_Given: string (nullable = true)\n",
            " |-- sports: string (nullable = true)\n",
            " |-- gold_medal: integer (nullable = true)\n",
            " |-- silver_medal: integer (nullable = true)\n",
            " |-- brone_medal: integer (nullable = true)\n",
            " |-- total_medal: integer (nullable = true)\n",
            "\n"
          ]
        }
      ]
    },
    {
      "cell_type": "markdown",
      "source": [
        "observation-\n",
        "* printSchema() is used to print or display the schema of the DataFrame in the tree format along with column name and data type"
      ],
      "metadata": {
        "id": "94GRf5QKEUXP"
      }
    },
    {
      "cell_type": "code",
      "source": [
        "# Find Count of Null, None, NaN of All DataFrame Columns\n",
        "from pyspark.sql.functions import col,isnan, when, count\n",
        "df1.select([count(when(isnan(c) | col(c).isNull(), c)).alias(c) for c in df1.columns]).show()\n"
      ],
      "metadata": {
        "colab": {
          "base_uri": "https://localhost:8080/"
        },
        "id": "sWvL5QbNEF7j",
        "outputId": "4f8c096c-3b9d-429b-db6b-c806c99f88b6"
      },
      "execution_count": null,
      "outputs": [
        {
          "output_type": "stream",
          "name": "stdout",
          "text": [
            "+----+---+-------+----+----------+------+----------+------------+-----------+-----------+\n",
            "|name|age|country|year|Date_Given|sports|gold_medal|silver_medal|brone_medal|total_medal|\n",
            "+----+---+-------+----+----------+------+----------+------------+-----------+-----------+\n",
            "|   5|  5|      0|   0|         0|     0|         0|           0|          0|          0|\n",
            "+----+---+-------+----+----------+------+----------+------------+-----------+-----------+\n",
            "\n"
          ]
        }
      ]
    },
    {
      "cell_type": "code",
      "source": [
        "n=df1.filter(df1.name.isNull())# checking for null values by using isNull\n",
        "n.show()"
      ],
      "metadata": {
        "colab": {
          "base_uri": "https://localhost:8080/"
        },
        "id": "Lu1D_UgwmXQB",
        "outputId": "64849ff1-00a6-4b4f-b0fc-262b0ddf0056"
      },
      "execution_count": null,
      "outputs": [
        {
          "output_type": "stream",
          "name": "stdout",
          "text": [
            "+----+----+---------+----+----------+----------+----------+------------+-----------+-----------+\n",
            "|name| age|  country|year|Date_Given|    sports|gold_medal|silver_medal|brone_medal|total_medal|\n",
            "+----+----+---------+----+----------+----------+----------+------------+-----------+-----------+\n",
            "|null|null|   Brazil|2012|08-12-2012|Volleyball|         0|           1|          0|          1|\n",
            "|null|null|   Brazil|2012|08-12-2012|Volleyball|         0|           1|          0|          1|\n",
            "|null|null|   Brazil|2012|08-12-2012|Volleyball|         0|           1|          0|          1|\n",
            "|null|null|Argentina|2012|08-12-2012|    Hockey|         0|           1|          0|          1|\n",
            "|null|null|Argentina|2012|08-12-2012|    Hockey|         0|           1|          0|          1|\n",
            "+----+----+---------+----+----------+----------+----------+------------+-----------+-----------+\n",
            "\n"
          ]
        }
      ]
    },
    {
      "cell_type": "markdown",
      "source": [
        "observation-\n",
        "* In column name and age there are 5 missing values and we found duplicates records\n",
        "* To find count for selected columns in a list use list of column names instead of df1.columns. The below example yields the same output as above."
      ],
      "metadata": {
        "id": "35Ujnw8QGU0X"
      }
    },
    {
      "cell_type": "code",
      "source": [
        "df3 = df1.dropDuplicates()#Drop duplicates and returns the new dataframe\n",
        "print(\"Distinct count: \"+str(df3.count()))\n",
        "df3.show(truncate=False)"
      ],
      "metadata": {
        "colab": {
          "base_uri": "https://localhost:8080/"
        },
        "id": "LyIkvmYYFXQc",
        "outputId": "6340a7d8-c044-4aa7-e793-6bfc1956bfb2"
      },
      "execution_count": null,
      "outputs": [
        {
          "output_type": "stream",
          "name": "stdout",
          "text": [
            "Distinct count: 8615\n",
            "+---------------------+---+---------------------+----+----------+-------------------------+----------+------------+-----------+-----------+\n",
            "|name                 |age|country              |year|Date_Given|sports                   |gold_medal|silver_medal|brone_medal|total_medal|\n",
            "+---------------------+---+---------------------+----+----------+-------------------------+----------+------------+-----------+-----------+\n",
            "|Wang Meng            |20 |China                |2006|2/26/2006 |Short-Track Speed Skating|1         |1           |1          |3          |\n",
            "|Rita König           |23 |Germany              |2000|10-01-2000|Fencing                  |0         |1           |1          |2          |\n",
            "|Botond Storcz        |25 |Hungary              |2000|10-01-2000|Canoeing                 |2         |0           |0          |2          |\n",
            "|Ole Einar Bjørndalen |36 |Norway               |2010|2/28/2010 |Biathlon                 |1         |1           |0          |2          |\n",
            "|Roser Tarragó        |19 |Spain                |2012|08-12-2012|Waterpolo                |0         |1           |0          |1          |\n",
            "|Mieke Cabout         |22 |Netherlands          |2008|8/24/2008 |Waterpolo                |1         |0           |0          |1          |\n",
            "|Vasa Mijic           |27 |Serbia and Montenegro|2000|10-01-2000|Volleyball               |1         |0           |0          |1          |\n",
            "|Huang Chih-Hsiung    |23 |Chinese Taipei       |2000|10-01-2000|Taekwondo                |0         |0           |1          |1          |\n",
            "|Luo Xi               |24 |China                |2012|08-12-2012|Synchronized Swimming    |0         |1           |0          |1          |\n",
            "|Yevgeny Lagunov      |22 |Russia               |2008|8/24/2008 |Swimming                 |0         |1           |0          |1          |\n",
            "|Ayumi Karino         |23 |Japan                |2008|8/24/2008 |Softball                 |1         |0           |0          |1          |\n",
            "|Crystl Bustos        |23 |United States        |2000|10-01-2000|Softball                 |1         |0           |0          |1          |\n",
            "|Jessica Rossi        |20 |Italy                |2012|08-12-2012|Shooting                 |1         |0           |0          |1          |\n",
            "|Nino Salukvadze      |39 |Georgia              |2008|8/24/2008 |Shooting                 |0         |0           |1          |1          |\n",
            "|Merel Witteveen      |23 |Netherlands          |2008|8/24/2008 |Sailing                  |0         |1           |0          |1          |\n",
            "|Simon Hiscocks       |27 |Great Britain        |2000|10-01-2000|Sailing                  |0         |1           |0          |1          |\n",
            "|Georgios Vazagkasvili|26 |Georgia              |2000|10-01-2000|Judo                     |0         |0           |1          |1          |\n",
            "|Saija Sirviö         |27 |Finland              |2010|2/28/2010 |Ice Hockey               |0         |0           |1          |1          |\n",
            "|Isabelle Chartrand   |23 |Canada               |2002|2/24/2002 |Ice Hockey               |1         |0           |0          |1          |\n",
            "|Beth Storry          |34 |Great Britain        |2012|08-12-2012|Hockey                   |0         |0           |1          |1          |\n",
            "+---------------------+---+---------------------+----+----------+-------------------------+----------+------------+-----------+-----------+\n",
            "only showing top 20 rows\n",
            "\n"
          ]
        }
      ]
    },
    {
      "cell_type": "markdown",
      "source": [
        "Observation-\n",
        "*   Run the dropDuplicates() function which returns a new DataFrame after removing duplicate rows."
      ],
      "metadata": {
        "id": "MBq3Y4-HL-4V"
      }
    },
    {
      "cell_type": "code",
      "source": [
        "df3.select([count(when(isnan(c) | col(c).isNull(), c)).alias(c) for c in df3.columns]).show()\n"
      ],
      "metadata": {
        "colab": {
          "base_uri": "https://localhost:8080/"
        },
        "id": "RlUBhaaRLuRr",
        "outputId": "77db9c70-ca70-411c-e0c4-1bc0483272b1"
      },
      "execution_count": null,
      "outputs": [
        {
          "output_type": "stream",
          "name": "stdout",
          "text": [
            "+----+---+-------+----+----------+------+----------+------------+-----------+-----------+\n",
            "|name|age|country|year|Date_Given|sports|gold_medal|silver_medal|brone_medal|total_medal|\n",
            "+----+---+-------+----+----------+------+----------+------------+-----------+-----------+\n",
            "|   2|  2|      0|   0|         0|     0|         0|           0|          0|          0|\n",
            "+----+---+-------+----+----------+------+----------+------------+-----------+-----------+\n",
            "\n"
          ]
        }
      ]
    },
    {
      "cell_type": "markdown",
      "source": [
        "Observation:\n",
        "* There are  2 null value in name and age columns"
      ],
      "metadata": {
        "id": "WtG3Yblieing"
      }
    },
    {
      "cell_type": "code",
      "source": [
        "df3.agg({\"age\": \"avg\"}).show()#using aggregate functions count ,counting the UniqueCarrier column"
      ],
      "metadata": {
        "colab": {
          "base_uri": "https://localhost:8080/"
        },
        "id": "SZjg1aevOdTD",
        "outputId": "80cd2b39-faf0-4d38-b562-e3ca58efb271"
      },
      "execution_count": null,
      "outputs": [
        {
          "output_type": "stream",
          "name": "stdout",
          "text": [
            "+------------------+\n",
            "|          avg(age)|\n",
            "+------------------+\n",
            "|26.405433646812956|\n",
            "+------------------+\n",
            "\n"
          ]
        }
      ]
    },
    {
      "cell_type": "markdown",
      "source": [
        "Observation-\n",
        "\n",
        "* Finding mean of the age column ,mean  of age is 26.40"
      ],
      "metadata": {
        "id": "zQtWFZE2Sgq9"
      }
    },
    {
      "cell_type": "code",
      "source": [
        "df3=df3.na.fill({\"name\":\"unknown\",\"age\":26})# fill function is used the replce the dafault values\n"
      ],
      "metadata": {
        "id": "hEWjasksTWWi"
      },
      "execution_count": null,
      "outputs": []
    },
    {
      "cell_type": "markdown",
      "source": [
        "Observation-\n",
        "* This replaces null values with an empty string for type column and replaces with a constant value “unknown” for name column.\n",
        "* This replaces null values with an empty string for type column and replaces with a constant value “26” for age column."
      ],
      "metadata": {
        "id": "LYYylJhteWrA"
      }
    },
    {
      "cell_type": "code",
      "source": [
        "nulls=df3.filter(df3.name.isNull())# checking for null values by using isNull\n",
        "nulls.show()"
      ],
      "metadata": {
        "colab": {
          "base_uri": "https://localhost:8080/"
        },
        "id": "sYyx2ss0VyF0",
        "outputId": "103bb837-1fe8-4e0b-852d-1a6a4d50e64d"
      },
      "execution_count": null,
      "outputs": [
        {
          "output_type": "stream",
          "name": "stdout",
          "text": [
            "+----+---+-------+----+----------+------+----------+------------+-----------+-----------+\n",
            "|name|age|country|year|Date_Given|sports|gold_medal|silver_medal|brone_medal|total_medal|\n",
            "+----+---+-------+----+----------+------+----------+------------+-----------+-----------+\n",
            "+----+---+-------+----+----------+------+----------+------------+-----------+-----------+\n",
            "\n"
          ]
        }
      ]
    },
    {
      "cell_type": "markdown",
      "source": [
        "Observation-\n",
        "* As we can see there are no more null values presented in our dataset."
      ],
      "metadata": {
        "id": "T5wfIegxgB-C"
      }
    },
    {
      "cell_type": "markdown",
      "source": [
        "#Dealing with special characters from the name column."
      ],
      "metadata": {
        "id": "sheqrpqSBkn4"
      }
    },
    {
      "cell_type": "code",
      "source": [
        "from pyspark.sql.functions import udf# Importing necessary functions\n",
        "\n",
        "def ascii_(x):# defining the function\n",
        "    return x.encode('ascii', 'ignore').decode('ascii')#  the ascii values and decoding the data\n",
        "\n",
        "ascii_udf = udf(ascii_) # storing the user define functions\n",
        "\n",
        "df4 = df3.withColumn(\"name_spc_removed\", ascii_udf('name'))# selecting the column from thr dataframe to perform udf and creating new column.\n",
        "df4.show() # its shows the result"
      ],
      "metadata": {
        "colab": {
          "base_uri": "https://localhost:8080/"
        },
        "id": "DINZ-jyMBypA",
        "outputId": "bff9d1de-8a2c-40ea-9dd5-d3286544610d"
      },
      "execution_count": null,
      "outputs": [
        {
          "output_type": "stream",
          "name": "stdout",
          "text": [
            "+--------------------+---+--------------------+----+----------+--------------------+----------+------------+-----------+-----------+--------------------+\n",
            "|                name|age|             country|year|Date_Given|              sports|gold_medal|silver_medal|brone_medal|total_medal|    name_spc_removed|\n",
            "+--------------------+---+--------------------+----+----------+--------------------+----------+------------+-----------+-----------+--------------------+\n",
            "|           Wang Meng| 20|               China|2006| 2/26/2006|Short-Track Speed...|         1|           1|          1|          3|           Wang Meng|\n",
            "|          Rita König| 23|             Germany|2000|10-01-2000|             Fencing|         0|           1|          1|          2|           Rita Knig|\n",
            "|       Botond Storcz| 25|             Hungary|2000|10-01-2000|            Canoeing|         2|           0|          0|          2|       Botond Storcz|\n",
            "|Ole Einar Bjørndalen| 36|              Norway|2010| 2/28/2010|            Biathlon|         1|           1|          0|          2| Ole Einar Bjrndalen|\n",
            "|       Roser Tarragó| 19|               Spain|2012|08-12-2012|           Waterpolo|         0|           1|          0|          1|        Roser Tarrag|\n",
            "|        Mieke Cabout| 22|         Netherlands|2008| 8/24/2008|           Waterpolo|         1|           0|          0|          1|        Mieke Cabout|\n",
            "|          Vasa Mijic| 27|Serbia and Monten...|2000|10-01-2000|          Volleyball|         1|           0|          0|          1|          Vasa Mijic|\n",
            "|   Huang Chih-Hsiung| 23|      Chinese Taipei|2000|10-01-2000|           Taekwondo|         0|           0|          1|          1|   Huang Chih-Hsiung|\n",
            "|              Luo Xi| 24|               China|2012|08-12-2012|Synchronized Swim...|         0|           1|          0|          1|              Luo Xi|\n",
            "|     Yevgeny Lagunov| 22|              Russia|2008| 8/24/2008|            Swimming|         0|           1|          0|          1|     Yevgeny Lagunov|\n",
            "|        Ayumi Karino| 23|               Japan|2008| 8/24/2008|            Softball|         1|           0|          0|          1|        Ayumi Karino|\n",
            "|       Crystl Bustos| 23|       United States|2000|10-01-2000|            Softball|         1|           0|          0|          1|       Crystl Bustos|\n",
            "|       Jessica Rossi| 20|               Italy|2012|08-12-2012|            Shooting|         1|           0|          0|          1|       Jessica Rossi|\n",
            "|     Nino Salukvadze| 39|             Georgia|2008| 8/24/2008|            Shooting|         0|           0|          1|          1|     Nino Salukvadze|\n",
            "|     Merel Witteveen| 23|         Netherlands|2008| 8/24/2008|             Sailing|         0|           1|          0|          1|     Merel Witteveen|\n",
            "|      Simon Hiscocks| 27|       Great Britain|2000|10-01-2000|             Sailing|         0|           1|          0|          1|      Simon Hiscocks|\n",
            "|Georgios Vazagkas...| 26|             Georgia|2000|10-01-2000|                Judo|         0|           0|          1|          1|Georgios Vazagkas...|\n",
            "|        Saija Sirviö| 27|             Finland|2010| 2/28/2010|          Ice Hockey|         0|           0|          1|          1|         Saija Sirvi|\n",
            "|  Isabelle Chartrand| 23|              Canada|2002| 2/24/2002|          Ice Hockey|         1|           0|          0|          1|  Isabelle Chartrand|\n",
            "|         Beth Storry| 34|       Great Britain|2012|08-12-2012|              Hockey|         0|           0|          1|          1|         Beth Storry|\n",
            "+--------------------+---+--------------------+----+----------+--------------------+----------+------------+-----------+-----------+--------------------+\n",
            "only showing top 20 rows\n",
            "\n"
          ]
        }
      ]
    },
    {
      "cell_type": "markdown",
      "source": [
        "##Write PySpark code to print the Olympic Sports/games in the dataset."
      ],
      "metadata": {
        "id": "hBUvDR0Hhzn7"
      }
    },
    {
      "cell_type": "code",
      "source": [
        "unique_sports=df3.select('sports').distinct()#This should help to get unique sport of a column:\n",
        "print(\"unique sport count: \"+str(unique_sports.count()))#count the unique sport\n",
        "unique_sports.show()# its show the result\n"
      ],
      "metadata": {
        "colab": {
          "base_uri": "https://localhost:8080/"
        },
        "id": "kcqcaXq9fWrO",
        "outputId": "41b3eae7-7408-4b03-e7ee-bd8ddab32b2d"
      },
      "execution_count": null,
      "outputs": [
        {
          "output_type": "stream",
          "name": "stdout",
          "text": [
            "unique sport count: 49\n",
            "+--------------------+\n",
            "|              sports|\n",
            "+--------------------+\n",
            "|          Gymnastics|\n",
            "|              Tennis|\n",
            "|              Boxing|\n",
            "|Short-Track Speed...|\n",
            "|          Ice Hockey|\n",
            "|              Rowing|\n",
            "|                Judo|\n",
            "|            Softball|\n",
            "|             Sailing|\n",
            "|            Swimming|\n",
            "|       Alpine Skiing|\n",
            "|          Basketball|\n",
            "|            Handball|\n",
            "| Rhythmic Gymnastics|\n",
            "|            Biathlon|\n",
            "|           Triathlon|\n",
            "|           Badminton|\n",
            "|           Athletics|\n",
            "|      Figure Skating|\n",
            "|    Beach Volleyball|\n",
            "+--------------------+\n",
            "only showing top 20 rows\n",
            "\n"
          ]
        }
      ]
    },
    {
      "cell_type": "markdown",
      "source": [
        "Observation-\n",
        "* You can see above result ,There are 49 unique  sports in olympic"
      ],
      "metadata": {
        "id": "kf3imhNgjNPO"
      }
    },
    {
      "cell_type": "markdown",
      "source": [
        "##Write PySpark code to plot the total number of medals in each Olympic Sport/game"
      ],
      "metadata": {
        "id": "hS3MTinYjEso"
      }
    },
    {
      "cell_type": "code",
      "source": [
        "df3.groupby(\"sports\").sum(\"total_medal\").show(n = 49)  # use group by for sports and sum for add total medal"
      ],
      "metadata": {
        "id": "FHb6Q2F2hkwW",
        "colab": {
          "base_uri": "https://localhost:8080/"
        },
        "outputId": "79b0d5ca-3ba3-4e59-89a7-fc2e9f8d08f1"
      },
      "execution_count": null,
      "outputs": [
        {
          "output_type": "stream",
          "name": "stdout",
          "text": [
            "+--------------------+----------------+\n",
            "|              sports|sum(total_medal)|\n",
            "+--------------------+----------------+\n",
            "|          Gymnastics|             282|\n",
            "|              Tennis|              78|\n",
            "|              Boxing|             188|\n",
            "|Short-Track Speed...|             138|\n",
            "|          Ice Hockey|             384|\n",
            "|              Rowing|             576|\n",
            "|                Judo|             224|\n",
            "|            Softball|             134|\n",
            "|             Sailing|             210|\n",
            "|            Swimming|             765|\n",
            "|       Alpine Skiing|              90|\n",
            "|          Basketball|             287|\n",
            "|            Handball|             351|\n",
            "| Rhythmic Gymnastics|              84|\n",
            "|            Biathlon|             138|\n",
            "|           Triathlon|              24|\n",
            "|           Badminton|              96|\n",
            "|           Athletics|             753|\n",
            "|      Figure Skating|              54|\n",
            "|    Beach Volleyball|              48|\n",
            "|          Equestrian|             182|\n",
            "|            Shooting|             192|\n",
            "|              Diving|             144|\n",
            "|            Skeleton|              18|\n",
            "|         Ski Jumping|              54|\n",
            "|     Nordic Combined|              54|\n",
            "|           Wrestling|             245|\n",
            "|       Speed Skating|             140|\n",
            "|        Table Tennis|              84|\n",
            "|           Taekwondo|             112|\n",
            "|            Canoeing|             333|\n",
            "|       Weightlifting|             180|\n",
            "|           Waterpolo|             306|\n",
            "|            Baseball|             216|\n",
            "|   Modern Pentathlon|              24|\n",
            "|        Snowboarding|              48|\n",
            "|           Bobsleigh|              72|\n",
            "|             Cycling|             306|\n",
            "|Cross Country Skiing|             174|\n",
            "|          Volleyball|             279|\n",
            "|             Archery|              96|\n",
            "|Synchronized Swim...|             129|\n",
            "|             Curling|              82|\n",
            "|             Fencing|             256|\n",
            "|              Hockey|             387|\n",
            "|    Freestyle Skiing|              42|\n",
            "|            Football|             407|\n",
            "|                Luge|              36|\n",
            "|          Trampoline|              24|\n",
            "+--------------------+----------------+\n",
            "\n"
          ]
        }
      ]
    },
    {
      "cell_type": "markdown",
      "source": [
        "Observation-\n",
        "* Above list of the total number of medals in each Olympic Sport/game"
      ],
      "metadata": {
        "id": "OA7RgPeFrdRM"
      }
    },
    {
      "cell_type": "code",
      "source": [
        "import pandas as  pd   # use for data analysis\n",
        "import matplotlib.pyplot as plt   # use for data visualisation\n",
        "import seaborn as sns  # use for data visualisation"
      ],
      "metadata": {
        "id": "Fn-0D6DIsVHN"
      },
      "execution_count": null,
      "outputs": []
    },
    {
      "cell_type": "code",
      "source": [
        "oly= df3.toPandas()   # converting pyspark dataframe to pandas dataframe\n",
        "oly.head(1)  # reading only 1st row"
      ],
      "metadata": {
        "colab": {
          "base_uri": "https://localhost:8080/",
          "height": 81
        },
        "id": "rc41d0zmsfT_",
        "outputId": "f3213008-02e3-41da-8841-d1f08ab2b254"
      },
      "execution_count": null,
      "outputs": [
        {
          "output_type": "execute_result",
          "data": {
            "text/plain": [
              "        name   age country  year Date_Given                     sports  \\\n",
              "0  Wang Meng  20.0   China  2006  2/26/2006  Short-Track Speed Skating   \n",
              "\n",
              "   gold_medal  silver_medal  brone_medal  total_medal  \n",
              "0           1             1            1            3  "
            ],
            "text/html": [
              "\n",
              "  <div id=\"df-8e500e64-c588-47b9-9e66-318a4b7ac197\">\n",
              "    <div class=\"colab-df-container\">\n",
              "      <div>\n",
              "<style scoped>\n",
              "    .dataframe tbody tr th:only-of-type {\n",
              "        vertical-align: middle;\n",
              "    }\n",
              "\n",
              "    .dataframe tbody tr th {\n",
              "        vertical-align: top;\n",
              "    }\n",
              "\n",
              "    .dataframe thead th {\n",
              "        text-align: right;\n",
              "    }\n",
              "</style>\n",
              "<table border=\"1\" class=\"dataframe\">\n",
              "  <thead>\n",
              "    <tr style=\"text-align: right;\">\n",
              "      <th></th>\n",
              "      <th>name</th>\n",
              "      <th>age</th>\n",
              "      <th>country</th>\n",
              "      <th>year</th>\n",
              "      <th>Date_Given</th>\n",
              "      <th>sports</th>\n",
              "      <th>gold_medal</th>\n",
              "      <th>silver_medal</th>\n",
              "      <th>brone_medal</th>\n",
              "      <th>total_medal</th>\n",
              "    </tr>\n",
              "  </thead>\n",
              "  <tbody>\n",
              "    <tr>\n",
              "      <th>0</th>\n",
              "      <td>Wang Meng</td>\n",
              "      <td>20.0</td>\n",
              "      <td>China</td>\n",
              "      <td>2006</td>\n",
              "      <td>2/26/2006</td>\n",
              "      <td>Short-Track Speed Skating</td>\n",
              "      <td>1</td>\n",
              "      <td>1</td>\n",
              "      <td>1</td>\n",
              "      <td>3</td>\n",
              "    </tr>\n",
              "  </tbody>\n",
              "</table>\n",
              "</div>\n",
              "      <button class=\"colab-df-convert\" onclick=\"convertToInteractive('df-8e500e64-c588-47b9-9e66-318a4b7ac197')\"\n",
              "              title=\"Convert this dataframe to an interactive table.\"\n",
              "              style=\"display:none;\">\n",
              "        \n",
              "  <svg xmlns=\"http://www.w3.org/2000/svg\" height=\"24px\"viewBox=\"0 0 24 24\"\n",
              "       width=\"24px\">\n",
              "    <path d=\"M0 0h24v24H0V0z\" fill=\"none\"/>\n",
              "    <path d=\"M18.56 5.44l.94 2.06.94-2.06 2.06-.94-2.06-.94-.94-2.06-.94 2.06-2.06.94zm-11 1L8.5 8.5l.94-2.06 2.06-.94-2.06-.94L8.5 2.5l-.94 2.06-2.06.94zm10 10l.94 2.06.94-2.06 2.06-.94-2.06-.94-.94-2.06-.94 2.06-2.06.94z\"/><path d=\"M17.41 7.96l-1.37-1.37c-.4-.4-.92-.59-1.43-.59-.52 0-1.04.2-1.43.59L10.3 9.45l-7.72 7.72c-.78.78-.78 2.05 0 2.83L4 21.41c.39.39.9.59 1.41.59.51 0 1.02-.2 1.41-.59l7.78-7.78 2.81-2.81c.8-.78.8-2.07 0-2.86zM5.41 20L4 18.59l7.72-7.72 1.47 1.35L5.41 20z\"/>\n",
              "  </svg>\n",
              "      </button>\n",
              "      \n",
              "  <style>\n",
              "    .colab-df-container {\n",
              "      display:flex;\n",
              "      flex-wrap:wrap;\n",
              "      gap: 12px;\n",
              "    }\n",
              "\n",
              "    .colab-df-convert {\n",
              "      background-color: #E8F0FE;\n",
              "      border: none;\n",
              "      border-radius: 50%;\n",
              "      cursor: pointer;\n",
              "      display: none;\n",
              "      fill: #1967D2;\n",
              "      height: 32px;\n",
              "      padding: 0 0 0 0;\n",
              "      width: 32px;\n",
              "    }\n",
              "\n",
              "    .colab-df-convert:hover {\n",
              "      background-color: #E2EBFA;\n",
              "      box-shadow: 0px 1px 2px rgba(60, 64, 67, 0.3), 0px 1px 3px 1px rgba(60, 64, 67, 0.15);\n",
              "      fill: #174EA6;\n",
              "    }\n",
              "\n",
              "    [theme=dark] .colab-df-convert {\n",
              "      background-color: #3B4455;\n",
              "      fill: #D2E3FC;\n",
              "    }\n",
              "\n",
              "    [theme=dark] .colab-df-convert:hover {\n",
              "      background-color: #434B5C;\n",
              "      box-shadow: 0px 1px 3px 1px rgba(0, 0, 0, 0.15);\n",
              "      filter: drop-shadow(0px 1px 2px rgba(0, 0, 0, 0.3));\n",
              "      fill: #FFFFFF;\n",
              "    }\n",
              "  </style>\n",
              "\n",
              "      <script>\n",
              "        const buttonEl =\n",
              "          document.querySelector('#df-8e500e64-c588-47b9-9e66-318a4b7ac197 button.colab-df-convert');\n",
              "        buttonEl.style.display =\n",
              "          google.colab.kernel.accessAllowed ? 'block' : 'none';\n",
              "\n",
              "        async function convertToInteractive(key) {\n",
              "          const element = document.querySelector('#df-8e500e64-c588-47b9-9e66-318a4b7ac197');\n",
              "          const dataTable =\n",
              "            await google.colab.kernel.invokeFunction('convertToInteractive',\n",
              "                                                     [key], {});\n",
              "          if (!dataTable) return;\n",
              "\n",
              "          const docLinkHtml = 'Like what you see? Visit the ' +\n",
              "            '<a target=\"_blank\" href=https://colab.research.google.com/notebooks/data_table.ipynb>data table notebook</a>'\n",
              "            + ' to learn more about interactive tables.';\n",
              "          element.innerHTML = '';\n",
              "          dataTable['output_type'] = 'display_data';\n",
              "          await google.colab.output.renderOutput(dataTable, element);\n",
              "          const docLink = document.createElement('div');\n",
              "          docLink.innerHTML = docLinkHtml;\n",
              "          element.appendChild(docLink);\n",
              "        }\n",
              "      </script>\n",
              "    </div>\n",
              "  </div>\n",
              "  "
            ]
          },
          "metadata": {},
          "execution_count": 13
        }
      ]
    },
    {
      "cell_type": "code",
      "source": [
        "total_sport = oly.groupby(['sports'])[\"total_medal\"].sum().sort_values(ascending=False)\n",
        "total_sport   # the total number of medals in  each Olympic Sport/game in descending order"
      ],
      "metadata": {
        "colab": {
          "base_uri": "https://localhost:8080/"
        },
        "id": "2ZB6hGnqso4f",
        "outputId": "b591efb5-29d2-4e14-c84e-74290d809dca"
      },
      "execution_count": null,
      "outputs": [
        {
          "output_type": "execute_result",
          "data": {
            "text/plain": [
              "sports\n",
              "Swimming                     765\n",
              "Athletics                    753\n",
              "Rowing                       576\n",
              "Football                     407\n",
              "Hockey                       387\n",
              "Ice Hockey                   384\n",
              "Handball                     351\n",
              "Canoeing                     333\n",
              "Waterpolo                    306\n",
              "Cycling                      306\n",
              "Basketball                   287\n",
              "Gymnastics                   282\n",
              "Volleyball                   279\n",
              "Fencing                      256\n",
              "Wrestling                    245\n",
              "Judo                         224\n",
              "Baseball                     216\n",
              "Sailing                      210\n",
              "Shooting                     192\n",
              "Boxing                       188\n",
              "Equestrian                   182\n",
              "Weightlifting                180\n",
              "Cross Country Skiing         174\n",
              "Diving                       144\n",
              "Speed Skating                140\n",
              "Biathlon                     138\n",
              "Short-Track Speed Skating    138\n",
              "Softball                     134\n",
              "Synchronized Swimming        129\n",
              "Taekwondo                    112\n",
              "Badminton                     96\n",
              "Archery                       96\n",
              "Alpine Skiing                 90\n",
              "Rhythmic Gymnastics           84\n",
              "Table Tennis                  84\n",
              "Curling                       82\n",
              "Tennis                        78\n",
              "Bobsleigh                     72\n",
              "Nordic Combined               54\n",
              "Ski Jumping                   54\n",
              "Figure Skating                54\n",
              "Snowboarding                  48\n",
              "Beach Volleyball              48\n",
              "Freestyle Skiing              42\n",
              "Luge                          36\n",
              "Trampoline                    24\n",
              "Triathlon                     24\n",
              "Modern Pentathlon             24\n",
              "Skeleton                      18\n",
              "Name: total_medal, dtype: int32"
            ]
          },
          "metadata": {},
          "execution_count": 20
        }
      ]
    },
    {
      "cell_type": "code",
      "source": [
        "total_sport.plot(kind='bar', title='sports vs total_medal', ylabel='total_medal',\n",
        "         xlabel='sports', figsize=(15,8)) # bar plot sports vs total_medal"
      ],
      "metadata": {
        "colab": {
          "base_uri": "https://localhost:8080/",
          "height": 650
        },
        "id": "YSNfqtuFs0OE",
        "outputId": "9f95f68f-7b2a-4bd8-c899-21136bf852a8"
      },
      "execution_count": null,
      "outputs": [
        {
          "output_type": "execute_result",
          "data": {
            "text/plain": [
              "<matplotlib.axes._subplots.AxesSubplot at 0x7f10765595d0>"
            ]
          },
          "metadata": {},
          "execution_count": 21
        },
        {
          "output_type": "display_data",
          "data": {
            "text/plain": [
              "<Figure size 1080x576 with 1 Axes>"
            ],
            "image/png": "[encoded data removed]"
          },
          "metadata": {
            "needs_background": "light"
          }
        }
      ]
    },
    {
      "cell_type": "markdown",
      "source": [
        "Observation-\n",
        "* From above plot large total medals in sports like swimming,athletics, rowing, football and hockey"
      ],
      "metadata": {
        "id": "iuJavGEJs7Qt"
      }
    },
    {
      "cell_type": "markdown",
      "source": [
        "##Top 10 sports with total medals"
      ],
      "metadata": {
        "id": "CSs8V47AtFhj"
      }
    },
    {
      "cell_type": "code",
      "source": [
        "total_sport = oly.groupby(['sports'])[\"total_medal\"].sum().sort_values(ascending=False).head(10)\n",
        "total_sport   # the total number of medals in  each Olympic Sport/game in descending order"
      ],
      "metadata": {
        "colab": {
          "base_uri": "https://localhost:8080/"
        },
        "id": "axXw52wAtCXj",
        "outputId": "98eb0bab-8b15-4896-97c2-480433441fb6"
      },
      "execution_count": null,
      "outputs": [
        {
          "output_type": "execute_result",
          "data": {
            "text/plain": [
              "sports\n",
              "Swimming      765\n",
              "Athletics     753\n",
              "Rowing        576\n",
              "Football      407\n",
              "Hockey        387\n",
              "Ice Hockey    384\n",
              "Handball      351\n",
              "Canoeing      333\n",
              "Waterpolo     306\n",
              "Cycling       306\n",
              "Name: total_medal, dtype: int32"
            ]
          },
          "metadata": {},
          "execution_count": 22
        }
      ]
    },
    {
      "cell_type": "code",
      "source": [
        "total_sport.plot(kind='bar', title='sports and total_medal', ylabel='total_medal',xlabel='sports', figsize=(15,8)) # bar plot sports and total_medal"
      ],
      "metadata": {
        "colab": {
          "base_uri": "https://localhost:8080/",
          "height": 574
        },
        "id": "5FBOhqGRtTFg",
        "outputId": "9055621a-1a00-4bc4-f812-07e33c61c53b"
      },
      "execution_count": null,
      "outputs": [
        {
          "output_type": "execute_result",
          "data": {
            "text/plain": [
              "<matplotlib.axes._subplots.AxesSubplot at 0x7f1076255ed0>"
            ]
          },
          "metadata": {},
          "execution_count": 38
        },
        {
          "output_type": "display_data",
          "data": {
            "text/plain": [
              "<Figure size 1080x576 with 1 Axes>"
            ],
            "image/png": "[encoded data removed]"
          },
          "metadata": {
            "needs_background": "light"
          }
        }
      ]
    },
    {
      "cell_type": "markdown",
      "source": [
        "Observation:\n",
        "* From above plot large total medals in sports like swimming,athletics, rowing, football and hockey"
      ],
      "metadata": {
        "id": "eLewl2PctZ_S"
      }
    },
    {
      "cell_type": "markdown",
      "source": [
        "##Sort the result based on the total number of medals."
      ],
      "metadata": {
        "id": "BFSDBfDbjr0d"
      }
    },
    {
      "cell_type": "code",
      "source": [
        "df3.groupby(\"sports\").sum(\"total_medal\").orderBy(F.desc(\"sum(total_medal)\")).show()#use gruop by and sum for total metals and order by for ordering and also use desc or descending ordering\n"
      ],
      "metadata": {
        "colab": {
          "base_uri": "https://localhost:8080/"
        },
        "id": "ZIv-Px60nqLf",
        "outputId": "813306a8-eef7-419b-b1f8-32b4750b042c"
      },
      "execution_count": null,
      "outputs": [
        {
          "output_type": "stream",
          "name": "stdout",
          "text": [
            "+----------+----------------+\n",
            "|    sports|sum(total_medal)|\n",
            "+----------+----------------+\n",
            "|  Swimming|             765|\n",
            "| Athletics|             753|\n",
            "|    Rowing|             576|\n",
            "|  Football|             407|\n",
            "|    Hockey|             387|\n",
            "|Ice Hockey|             384|\n",
            "|  Handball|             351|\n",
            "|  Canoeing|             333|\n",
            "| Waterpolo|             306|\n",
            "|   Cycling|             306|\n",
            "|Basketball|             287|\n",
            "|Gymnastics|             282|\n",
            "|Volleyball|             279|\n",
            "|   Fencing|             256|\n",
            "| Wrestling|             245|\n",
            "|      Judo|             224|\n",
            "|  Baseball|             216|\n",
            "|   Sailing|             210|\n",
            "|  Shooting|             192|\n",
            "|    Boxing|             188|\n",
            "+----------+----------------+\n",
            "only showing top 20 rows\n",
            "\n"
          ]
        }
      ]
    },
    {
      "cell_type": "markdown",
      "source": [
        "Observation-\n",
        "* sorted total number of medals in each Olympic Sport/game\n",
        "* As our result ,there are 765 medals in swimming in top place"
      ],
      "metadata": {
        "id": "WmJkV3bpntJW"
      }
    },
    {
      "cell_type": "markdown",
      "source": [
        "##Find the total number of medals won by each country in swimming."
      ],
      "metadata": {
        "id": "26bPpct3nqiF"
      }
    },
    {
      "cell_type": "code",
      "source": [
        "#In sports columns filtering the swimming after that groupby from country column and counting the total medal ,after the signning the a varable\n",
        "a=df3.filter((df3.sports== \"Swimming\")).groupBy(\"country\").agg({\"total_medal\":\"count\"}).orderBy(F.desc(\"count(total_medal)\"))\n",
        "a.show()# its show the result"
      ],
      "metadata": {
        "colab": {
          "base_uri": "https://localhost:8080/"
        },
        "id": "lK5YlF0GmbUZ",
        "outputId": "b3db5b23-f74c-4068-abe0-e694b5c019f5"
      },
      "execution_count": null,
      "outputs": [
        {
          "output_type": "stream",
          "name": "stdout",
          "text": [
            "+-------------+------------------+\n",
            "|      country|count(total_medal)|\n",
            "+-------------+------------------+\n",
            "|United States|               145|\n",
            "|    Australia|                92|\n",
            "|  Netherlands|                32|\n",
            "|        Japan|                30|\n",
            "|        China|                29|\n",
            "|      Germany|                27|\n",
            "|       France|                26|\n",
            "|       Russia|                19|\n",
            "|        Italy|                13|\n",
            "|Great Britain|                 9|\n",
            "| South Africa|                 8|\n",
            "|       Sweden|                 7|\n",
            "|       Brazil|                 7|\n",
            "|      Hungary|                 7|\n",
            "|       Canada|                 5|\n",
            "|      Ukraine|                 4|\n",
            "|      Romania|                 4|\n",
            "|       Norway|                 2|\n",
            "|        Spain|                 2|\n",
            "|  South Korea|                 2|\n",
            "+-------------+------------------+\n",
            "only showing top 20 rows\n",
            "\n"
          ]
        }
      ]
    },
    {
      "cell_type": "markdown",
      "source": [
        "Observation-\n",
        "* united states got   a 145 medals in swimming\n",
        "* austraila got a 92 medals in swimming\n",
        "* nether lands got a 32 medals in swimming\n",
        "* japan got a 30 medals in swimming\n",
        "* china got a 29 medals in swimming\n",
        "* germany got a 27 medals in swimming\n",
        "* france got a 26 medals in swimmning\n",
        "* Russia got a 19 medals in swimmning\n",
        "* Italy got a 13 medals in swimmning"
      ],
      "metadata": {
        "id": "vGxat2-GwSsz"
      }
    },
    {
      "cell_type": "markdown",
      "source": [
        "##Find the total number of medals won by each country in Skeleton."
      ],
      "metadata": {
        "id": "uomHaznhwQtP"
      }
    },
    {
      "cell_type": "code",
      "source": [
        "#In sports columns filtering the Skeleton after that groupby from country column and counting the total medal ,after the signning the b varable\n",
        "b=df3.filter((df3.sports== \"Skeleton\")).groupBy(\"country\").agg({\"total_medal\":\"count\"})\n",
        "b.show()# its show the result"
      ],
      "metadata": {
        "colab": {
          "base_uri": "https://localhost:8080/"
        },
        "id": "9GQgW8p_pPb0",
        "outputId": "40b09155-a010-44bb-f4eb-f0ebdad046cd"
      },
      "execution_count": null,
      "outputs": [
        {
          "output_type": "stream",
          "name": "stdout",
          "text": [
            "+-------------+------------------+\n",
            "|      country|count(total_medal)|\n",
            "+-------------+------------------+\n",
            "|       Russia|                 1|\n",
            "|      Germany|                 2|\n",
            "|Great Britain|                 3|\n",
            "|United States|                 3|\n",
            "|  Switzerland|                 3|\n",
            "|       Latvia|                 1|\n",
            "|       Canada|                 4|\n",
            "|      Austria|                 1|\n",
            "+-------------+------------------+\n",
            "\n"
          ]
        }
      ]
    },
    {
      "cell_type": "markdown",
      "source": [
        "Observation:\n",
        "*  Canada got a 4 medals in skeleton\n",
        "* great britain ,United States,  Switzerland got a 3 medals in skeleton\n",
        "* germany got a 2 medals in skeleton\n",
        "* russia, latvia,austria got a 1 medals in skeleton\n"
      ],
      "metadata": {
        "id": "DL-hyJ_cyJog"
      }
    },
    {
      "cell_type": "markdown",
      "source": [
        "##Find the number of medals that the US won yearly."
      ],
      "metadata": {
        "id": "apsPbMfJy51A"
      }
    },
    {
      "cell_type": "code",
      "source": [
        "#In sports columns filtering the United States after that groupby from year column and sum the total medal ,after the signning the c varable\n",
        "c=df3.filter((df3.country== \"United States\")).groupBy(\"year\").agg({\"total_medal\":\"sum\"})\n",
        "c.show(10)# its show the result"
      ],
      "metadata": {
        "colab": {
          "base_uri": "https://localhost:8080/"
        },
        "id": "MngHbU6Lxblc",
        "outputId": "112dd185-f468-4e64-8d35-30548e01f694"
      },
      "execution_count": null,
      "outputs": [
        {
          "output_type": "stream",
          "name": "stdout",
          "text": [
            "+----+----------------+\n",
            "|year|sum(total_medal)|\n",
            "+----+----------------+\n",
            "|2006|              52|\n",
            "|2004|             265|\n",
            "|2012|             254|\n",
            "|2000|             243|\n",
            "|2010|              97|\n",
            "|2008|             317|\n",
            "|2002|              84|\n",
            "+----+----------------+\n",
            "\n"
          ]
        }
      ]
    },
    {
      "cell_type": "markdown",
      "source": [
        "Observation:\n",
        "* in year 2008 got a 317 medals in US\n",
        "* in year 2004 got a 265 medals in US\n",
        "* in year 2012 got a 254 medals in US\n",
        "* in year  2000 got a 243 medals in US"
      ],
      "metadata": {
        "id": "t3unxQVx0Lyp"
      }
    },
    {
      "cell_type": "markdown",
      "source": [
        "##Find the total number of medals won by each country."
      ],
      "metadata": {
        "id": "_kNkrwq_1OBN"
      }
    },
    {
      "cell_type": "code",
      "source": [
        "# groupby from country column and sum the total medal ,after the signning the d varable\n",
        "d=df3.groupBy(\"country\").agg({\"total_medal\":\"sum\"}).alias(\"sum(total_medal)\").orderBy(F.desc(\"sum(total_medal)\"))\n",
        "d.show()# its show the result"
      ],
      "metadata": {
        "colab": {
          "base_uri": "https://localhost:8080/"
        },
        "id": "Fja4Zb3ez5ie",
        "outputId": "d48d75d9-383d-4017-bcae-2128fa86e960"
      },
      "execution_count": null,
      "outputs": [
        {
          "output_type": "stream",
          "name": "stdout",
          "text": [
            "+-------------+----------------+\n",
            "|      country|sum(total_medal)|\n",
            "+-------------+----------------+\n",
            "|United States|            1312|\n",
            "|       Russia|             768|\n",
            "|      Germany|             629|\n",
            "|    Australia|             609|\n",
            "|        China|             530|\n",
            "|       Canada|             370|\n",
            "|        Italy|             331|\n",
            "|Great Britain|             322|\n",
            "|       France|             318|\n",
            "|  Netherlands|             318|\n",
            "|  South Korea|             308|\n",
            "|        Japan|             282|\n",
            "|       Brazil|             219|\n",
            "|        Spain|             205|\n",
            "|       Norway|             192|\n",
            "|         Cuba|             188|\n",
            "|       Sweden|             181|\n",
            "|      Hungary|             145|\n",
            "|      Ukraine|             143|\n",
            "|    Argentina|             140|\n",
            "+-------------+----------------+\n",
            "only showing top 20 rows\n",
            "\n"
          ]
        }
      ]
    },
    {
      "cell_type": "markdown",
      "source": [
        "Observation:\n",
        "* United States got a 1312 medals\n",
        "* russia got a 768 medals\n",
        "*  germany got a  629 medals\n"
      ],
      "metadata": {
        "id": "_rlE1i8C13QE"
      }
    },
    {
      "cell_type": "markdown",
      "source": [
        "##Who was the oldest athlete in the olympics?"
      ],
      "metadata": {
        "id": "icVLCTtd6E5q"
      }
    },
    {
      "cell_type": "code",
      "source": [
        "df3.agg({'age': 'max'}).show()# use aggregate max function"
      ],
      "metadata": {
        "colab": {
          "base_uri": "https://localhost:8080/"
        },
        "id": "HkTCHyU2pcQ1",
        "outputId": "091bd711-5b12-4d51-cb46-6f46db9d4172"
      },
      "execution_count": null,
      "outputs": [
        {
          "output_type": "stream",
          "name": "stdout",
          "text": [
            "+--------+\n",
            "|max(age)|\n",
            "+--------+\n",
            "|      61|\n",
            "+--------+\n",
            "\n"
          ]
        }
      ]
    },
    {
      "cell_type": "code",
      "source": [
        "df3.filter(df3.age==61).show() # filtering the age "
      ],
      "metadata": {
        "colab": {
          "base_uri": "https://localhost:8080/"
        },
        "id": "c-rg0dN-MDXL",
        "outputId": "55f330c2-5b28-4abc-ff8b-609f1c50f71c"
      },
      "execution_count": null,
      "outputs": [
        {
          "output_type": "stream",
          "name": "stdout",
          "text": [
            "+----------+---+-------+----+----------+----------+----------+------------+-----------+-----------+\n",
            "|      name|age|country|year|Date_Given|    sports|gold_medal|silver_medal|brone_medal|total_medal|\n",
            "+----------+---+-------+----+----------+----------+----------+------------+-----------+-----------+\n",
            "|Ian Millar| 61| Canada|2008| 8/24/2008|Equestrian|         0|           1|          0|          1|\n",
            "+----------+---+-------+----+----------+----------+----------+------------+-----------+-----------+\n",
            "\n"
          ]
        }
      ]
    },
    {
      "cell_type": "markdown",
      "source": [
        "Observation:\n",
        "* Ian Millar was oldest athlete"
      ],
      "metadata": {
        "id": "-1GjqsHupoTx"
      }
    },
    {
      "cell_type": "code",
      "source": [
        ""
      ],
      "metadata": {
        "id": "YXSK8amEX7Kb"
      },
      "execution_count": null,
      "outputs": []
    },
    {
      "cell_type": "markdown",
      "source": [
        "##Which country was he/she from?"
      ],
      "metadata": {
        "id": "2PaX56LN6NMt"
      }
    },
    {
      "cell_type": "code",
      "source": [
        "Age = df3.filter(df3.age == 61)  # filter age variable\n",
        "Age.show() # show age"
      ],
      "metadata": {
        "colab": {
          "base_uri": "https://localhost:8080/"
        },
        "id": "BD85Lb4IpzmF",
        "outputId": "37031b97-5dab-4b84-f8c9-b273bb5cc99c"
      },
      "execution_count": null,
      "outputs": [
        {
          "output_type": "stream",
          "name": "stdout",
          "text": [
            "+----------+---+-------+----+----------+----------+----------+------------+-----------+-----------+\n",
            "|      name|age|country|year|Date_Given|    sports|gold_medal|silver_medal|brone_medal|total_medal|\n",
            "+----------+---+-------+----+----------+----------+----------+------------+-----------+-----------+\n",
            "|Ian Millar| 61| Canada|2008| 8/24/2008|Equestrian|         0|           1|          0|          1|\n",
            "+----------+---+-------+----+----------+----------+----------+------------+-----------+-----------+\n",
            "\n"
          ]
        }
      ]
    },
    {
      "cell_type": "markdown",
      "source": [
        "Observation:\n",
        "* He was from Canada"
      ],
      "metadata": {
        "id": "18rwV40Gp6qd"
      }
    },
    {
      "cell_type": "code",
      "source": [
        ""
      ],
      "metadata": {
        "id": "w9w5vMVUp1KP"
      },
      "execution_count": null,
      "outputs": []
    },
    {
      "cell_type": "markdown",
      "source": [
        "##**Conclusion**"
      ],
      "metadata": {
        "id": "fzq9OAyV-Txp"
      }
    },
    {
      "cell_type": "markdown",
      "source": [
        "* Performed basic Exploration of Data Analysis in pyspark and handling with duplicate values deleted them to get effective results with missing values \n",
        "* Handling special character and  convert them from non ascii to ascii.\n",
        "* converting pyspark dataframe to pandas dataframe and ploting the result by using pandas\n",
        "* In sports columns filtering the Skeleton  and country wise and checking for number of medals that the US won yearly,total number of medals won by each country\n",
        "*  checking for who is the oldest athlete in the olympics name and country"
      ],
      "metadata": {
        "id": "3rWXOcm1-1WV"
      }
    }
  ]
}